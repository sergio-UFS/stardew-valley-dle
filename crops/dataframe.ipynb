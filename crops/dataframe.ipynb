{
 "cells": [
  {
   "cell_type": "code",
   "execution_count": 7,
   "metadata": {},
   "outputs": [],
   "source": [
    "import pandas as pd\n",
    "import numpy as np\n",
    "import matplotlib.pyplot as plt\n",
    "import seaborn as sns\n",
    "from tabulate import tabulate"
   ]
  },
  {
   "cell_type": "code",
   "execution_count": 8,
   "metadata": {},
   "outputs": [
    {
     "name": "stdout",
     "output_type": "stream",
     "text": [
      "+----+---------------------+-------------------+------------------+----------------+-------------------+-------------------------+-----------------------------------+----------------+--------------------------------------+---------------------+---------------------------+--------------------------+\n",
      "|    | Seed                |   Price (Regular) |   Price (Silver) |   Price (Gold) |   Price (Iridium) |   Growth Time (In Days) | Purchase Source                   | Name           | Season                               | Sell Price (Seed)   | Regrowth Time (In Days)   | XP                       |\n",
      "|----+---------------------+-------------------+------------------+----------------+-------------------+-------------------------+-----------------------------------+----------------+--------------------------------------+---------------------+---------------------------+--------------------------|\n",
      "|  0 | Jazz Seeds          |                50 |               62 |             75 |               100 |                       7 | [\"Pierre's\", 'JojaMart']          | Blue Jazz      | ['', 'Spring']                       | 15                  |                           |                          |\n",
      "|  1 | Carrot Seeds        |                35 |               43 |             52 |                70 |                       3 | []                                | Carrot         | ['', 'Spring']                       | 15                  |                           |                          |\n",
      "|  2 | Cauliflower Seeds   |               175 |              218 |            262 |               350 |                      12 | [\"Pierre's\", 'JojaMart']          | Cauliflower    | ['', 'Spring']                       | 40                  |                           |                          |\n",
      "|  3 | Coffee Bean         |                15 |               18 |             22 |                30 |                      10 | ['Traveling Cart', 'Dust Sprite'] |                | ['Spring', '', 'Summer']             |                     | 2.0                       | 4 Farming XP per harvest |\n",
      "|  4 | Garlic Seeds        |                60 |               75 |             90 |               120 |                       4 | [\"Pierre's\"]                      | Garlic         | ['', 'Spring']                       | 20                  |                           |                          |\n",
      "|  5 | Bean Starter        |                40 |               50 |             60 |                80 |                      10 | [\"Pierre's\", 'JojaMart']          | Green Bean     | ['', 'Spring']                       | 30                  |                           |                          |\n",
      "|  6 | Kale Seeds          |               110 |              137 |            165 |               220 |                       6 | [\"Pierre's\", 'JojaMart']          | Kale           | ['', 'Spring']                       | 35                  |                           |                          |\n",
      "|  7 | Parsnip Seeds       |                35 |               43 |             52 |                70 |                       4 | [\"Pierre's\", 'JojaMart']          | Parsnip        | ['', 'Spring']                       | 10                  |                           |                          |\n",
      "|  8 | Potato Seeds        |                80 |              100 |            120 |               160 |                       6 | [\"Pierre's\", 'JojaMart']          | Potato         | ['', 'Spring']                       | 25                  |                           |                          |\n",
      "|  9 | Rhubarb Seeds       |               220 |              275 |            330 |               440 |                      13 | ['Oasis']                         | Rhubarb        | ['', 'Spring']                       | 50                  |                           |                          |\n",
      "| 10 | Strawberry Seeds    |               120 |              150 |            180 |               240 |                       8 | ['Egg Festival']                  | Strawberry     | ['', 'Spring']                       | 0                   | 4.0                       |                          |\n",
      "| 11 | Tulip Bulb          |                30 |               37 |             45 |                60 |                       6 | [\"Pierre's\", 'JojaMart']          | Tulip          | ['', 'Spring']                       | 10                  |                           |                          |\n",
      "| 12 | Rice Shoot          |                30 |               37 |             45 |                60 |                       8 | [\"Pierre's\"]                      | Unmilled Rice  | ['', 'Spring']                       | 20                  |                           |                          |\n",
      "| 13 | Blueberry Seeds     |                50 |               62 |             75 |               100 |                      13 | [\"Pierre's\"]                      | Blueberry      | ['', 'Summer']                       | 40                  |                           |                          |\n",
      "| 14 | Corn Seeds          |                50 |               62 |             75 |               100 |                      14 | [\"Pierre's\", 'JojaMart']          | Corn           | ['Summer', '', 'Fall']               | 75                  | 4.0                       |                          |\n",
      "| 15 | Hops Starter        |                25 |               31 |             37 |                50 |                      11 | [\"Pierre's\", 'JojaMart']          | Hops           | ['', 'Summer']                       | 30                  |                           |                          |\n",
      "| 16 | Pepper Seeds        |                40 |               50 |             60 |                80 |                       5 | [\"Pierre's\", 'JojaMart']          | Hot Pepper     | ['', 'Summer']                       | 20                  |                           |                          |\n",
      "| 17 | Melon Seeds         |               250 |              312 |            375 |               500 |                      12 | [\"Pierre's\", 'JojaMart']          | Melon          | ['', 'Summer']                       | 40                  |                           |                          |\n",
      "| 18 | Poppy Seeds         |               140 |              175 |            210 |               280 |                       7 | [\"Pierre's\", 'JojaMart']          | Poppy          | ['', 'Summer']                       | 50                  |                           |                          |\n",
      "| 19 | Radish Seeds        |                90 |              112 |            135 |               180 |                       6 | [\"Pierre's\", 'JojaMart']          | Radish         | ['', 'Summer']                       | 20                  |                           |                          |\n",
      "| 20 | Red Cabbage Seeds   |               260 |              325 |            390 |               520 |                       9 | [\"Pierre's\"]                      | Red Cabbage    | ['', 'Summer']                       | 50                  |                           |                          |\n",
      "| 21 | Starfruit Seeds     |               750 |              937 |           1125 |              1500 |                      13 | ['Oasis']                         | Starfruit      | ['', 'Summer']                       | 200                 |                           |                          |\n",
      "| 22 | Spangle Seeds       |                90 |              112 |            135 |               180 |                       8 | [\"Pierre's\", 'JojaMart']          | Summer Spangle | ['', 'Summer']                       | 25                  |                           |                          |\n",
      "| 23 | Summer Squash Seeds |                45 |               56 |             67 |                90 |                       6 | []                                | Summer Squash  | ['', 'Summer']                       | 20                  |                           |                          |\n",
      "| 24 | Sunflower Seeds     |                80 |              100 |            120 |               160 |                       8 | [\"Pierre's\", 'JojaMart']          | Sunflower      | ['Summer', '', 'Fall']               | edit                |                           |                          |\n",
      "| 25 | Tomato Seeds        |                60 |               75 |             90 |               120 |                      11 | [\"Pierre's\", 'JojaMart']          | Tomato         | ['', 'Summer']                       | 25                  |                           |                          |\n",
      "| 26 | Wheat Seeds         |                25 |               31 |             37 |                50 |                       4 | [\"Pierre's\", 'JojaMart']          | Wheat          | ['Summer', '', 'Fall']               | 5                   |                           |                          |\n",
      "| 27 | Amaranth Seeds      |               150 |              187 |            225 |               300 |                       7 | [\"Pierre's\", 'JojaMart']          | Amaranth       | ['', 'Fall']                         | 35                  |                           |                          |\n",
      "| 28 | Artichoke Seeds     |               160 |              200 |            240 |               320 |                       8 | [\"Pierre's\"]                      | Artichoke      | ['', 'Fall']                         | 15                  |                           |                          |\n",
      "| 29 | Beet Seeds          |               100 |              125 |            150 |               200 |                       6 | ['Oasis']                         | Beet           | ['', 'Fall']                         | 10                  |                           |                          |\n",
      "| 30 | Bok Choy Seeds      |                80 |              100 |            120 |               160 |                       4 | [\"Pierre's\", 'JojaMart']          | Bok Choy       | ['', 'Fall']                         | 25                  |                           |                          |\n",
      "| 31 | Broccoli Seeds      |                70 |               87 |            105 |               140 |                       8 | []                                | Broccoli       | ['', 'Fall']                         | 40                  |                           |                          |\n",
      "| 32 | Cranberry Seeds     |                75 |               93 |            112 |               150 |                       7 | [\"Pierre's\", 'JojaMart']          | Cranberries    | ['', 'Fall']                         | 60                  |                           |                          |\n",
      "| 33 | Eggplant Seeds      |                60 |               75 |             90 |               120 |                       5 | [\"Pierre's\", 'JojaMart']          | Eggplant       | ['', 'Fall']                         | 10                  |                           |                          |\n",
      "| 34 | Fairy Seeds         |               290 |              362 |            435 |               580 |                      12 | [\"Pierre's\", 'JojaMart']          | Fairy Rose     | ['', 'Fall']                         | 100                 |                           |                          |\n",
      "| 35 | Grape Starter       |                80 |              100 |            120 |               160 |                      10 | [\"Pierre's\", 'JojaMart']          | Grape          | ['', 'Fall']                         | 30                  |                           |                          |\n",
      "| 36 | Pumpkin Seeds       |               320 |              400 |            480 |               640 |                      13 | [\"Pierre's\", 'JojaMart']          | Pumpkin        | ['', 'Fall']                         | 50                  |                           |                          |\n",
      "| 37 | Yam Seeds           |               160 |              200 |            240 |               320 |                      10 | [\"Pierre's\", 'JojaMart']          | Yam            | ['', 'Fall']                         | 30                  |                           |                          |\n",
      "| 38 | Powdermelon Seeds   |                60 |               75 |             90 |               120 |                       7 | []                                | Powdermelon    | ['', 'Winter']                       | 20                  |                           |                          |\n",
      "| 39 | Ancient Seeds       |               550 |              687 |            825 |              1100 |                      28 | ['Crafting Recipe']               | Ancient Fruit  | ['Spring', '', 'Summer', '', 'Fall'] | 30                  |                           |                          |\n",
      "| 40 | Cactus Seeds        |                75 |               93 |            112 |               150 |                      12 | ['Oasis']                         | Cactus Fruit   | ['All']                              | 0                   |                           |                          |\n",
      "+----+---------------------+-------------------+------------------+----------------+-------------------+-------------------------+-----------------------------------+----------------+--------------------------------------+---------------------+---------------------------+--------------------------+\n"
     ]
    }
   ],
   "source": [
    "df = pd.read_csv('crops.csv')\n",
    "df = df.fillna('')\n",
    "print(tabulate(df, headers='keys', tablefmt='psql'))"
   ]
  }
 ],
 "metadata": {
  "kernelspec": {
   "display_name": "Python 3",
   "language": "python",
   "name": "python3"
  },
  "language_info": {
   "codemirror_mode": {
    "name": "ipython",
    "version": 3
   },
   "file_extension": ".py",
   "mimetype": "text/x-python",
   "name": "python",
   "nbconvert_exporter": "python",
   "pygments_lexer": "ipython3",
   "version": "3.10.9"
  }
 },
 "nbformat": 4,
 "nbformat_minor": 2
}
